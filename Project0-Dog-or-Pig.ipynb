{
  "nbformat": 4,
  "nbformat_minor": 0,
  "metadata": {
    "colab": {
      "name": "Project0.ipynb",
      "provenance": [],
      "collapsed_sections": [],
      "authorship_tag": "ABX9TyMZBcOm/VRAApOoaORE16KW",
      "include_colab_link": true
    },
    "kernelspec": {
      "name": "python3",
      "display_name": "Python 3"
    },
    "language_info": {
      "name": "python"
    }
  },
  "cells": [
    {
      "cell_type": "markdown",
      "metadata": {
        "id": "view-in-github",
        "colab_type": "text"
      },
      "source": [
        "<a href=\"https://colab.research.google.com/github/dsperax/colab-ml-py/blob/main/Project0-Dog-or-Pig.ipynb\" target=\"_parent\"><img src=\"https://colab.research.google.com/assets/colab-badge.svg\" alt=\"Open In Colab\"/></a>"
      ]
    },
    {
      "cell_type": "code",
      "metadata": {
        "id": "UvKJgYRRCNor"
      },
      "source": [
        "# features (0 não e 1 sim)\n",
        "# [pelo longo, perna curta, late]\n",
        "\n",
        "porco1 = [0,1,0]\n",
        "porco2 = [0,1,1]\n",
        "porco3 = [1,1,0]\n",
        "\n",
        "cachorro1 =[0,1,1]\n",
        "cachorro2 =[1,0,1]\n",
        "cachorro3 =[1,1,1]\n",
        "\n",
        "# cachorro -> 0 e porco -> 1\n",
        "treino_x = [porco1, porco2, porco3, cachorro1, cachorro2, cachorro3]\n",
        "treino_y = [1,1,1,0,0,0] # label"
      ],
      "execution_count": null,
      "outputs": []
    },
    {
      "cell_type": "code",
      "metadata": {
        "colab": {
          "base_uri": "https://localhost:8080/"
        },
        "id": "d6MET2EqEg6v",
        "outputId": "d309da93-b8da-40aa-eec2-df821ff151cf"
      },
      "source": [
        "# importa biblioteca\n",
        "from sklearn.svm import LinearSVC\n",
        "\n",
        "# passa os parâmetros (ensina)\n",
        "model = LinearSVC()\n",
        "model.fit(treino_x, treino_y)"
      ],
      "execution_count": null,
      "outputs": [
        {
          "output_type": "execute_result",
          "data": {
            "text/plain": [
              "LinearSVC(C=1.0, class_weight=None, dual=True, fit_intercept=True,\n",
              "          intercept_scaling=1, loss='squared_hinge', max_iter=1000,\n",
              "          multi_class='ovr', penalty='l2', random_state=None, tol=0.0001,\n",
              "          verbose=0)"
            ]
          },
          "metadata": {
            "tags": []
          },
          "execution_count": 2
        }
      ]
    },
    {
      "cell_type": "code",
      "metadata": {
        "colab": {
          "base_uri": "https://localhost:8080/"
        },
        "id": "hBsdL48iE8QB",
        "outputId": "77cce6fd-0399-463d-f5c2-5a67ef4ca063"
      },
      "source": [
        "# apresenta algo (animal_misterioso)\n",
        "animal_misterioso = [1,1,1]\n",
        "\n",
        "# pede para classificar\n",
        "model.predict([animal_misterioso])"
      ],
      "execution_count": null,
      "outputs": [
        {
          "output_type": "execute_result",
          "data": {
            "text/plain": [
              "array([0])"
            ]
          },
          "metadata": {
            "tags": []
          },
          "execution_count": 3
        }
      ]
    },
    {
      "cell_type": "code",
      "metadata": {
        "id": "h56VEVDKFFvm"
      },
      "source": [
        "misterio1 = [1,1,1]\n",
        "misterio2 = [1,1,0]\n",
        "misterio3 = [0,1,1]\n",
        "misterio4 = [1,0,1]\n",
        "\n",
        "# pede para classificar\n",
        "teste_x = [misterio1, misterio2, misterio3, misterio4]\n",
        "# o que realmente são\n",
        "teste_y = [0,1,1,0]"
      ],
      "execution_count": null,
      "outputs": []
    },
    {
      "cell_type": "code",
      "metadata": {
        "colab": {
          "base_uri": "https://localhost:8080/"
        },
        "id": "6gyV10wZHfN1",
        "outputId": "25f05535-588b-4978-8843-9226e80177d8"
      },
      "source": [
        "previsoes = model.predict(teste_x)\n",
        "\n",
        "# utilizando accuracy do sklearn\n",
        "\n",
        "from sklearn.metrics import accuracy_score\n",
        "\n",
        "taxa_de_acerto = accuracy_score(teste_y, previsoes)\n",
        "print(\"Taxa de acerto: %.2f\" % (taxa_de_acerto * 100), \"%\")"
      ],
      "execution_count": null,
      "outputs": [
        {
          "output_type": "stream",
          "text": [
            "Taxa de acerto: 75.00 %\n"
          ],
          "name": "stdout"
        }
      ]
    }
  ]
}